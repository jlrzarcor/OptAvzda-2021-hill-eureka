{
 "cells": [
  {
   "cell_type": "markdown",
   "metadata": {
    "tags": []
   },
   "source": [
    "### Maestría en Ciencia de Datos, ITAM\n",
    "\n",
    "  **Curso de Optimización 2 2021-1,\"Optimización Avanzada\"**  \n",
    "  **Prof. Erick Palacios Moreno**\n",
    "\n",
    "> * Equipo 5:  \n",
    "MIGUEL LOPEZ  \n",
    "CARLOS LOPEZ  \n",
    "JOSÉ ZARATE\n",
    "\n",
    "**Proyecto Final. Reimplementación de nuestro _Hill CLimbing_ para resolver el TSP utilizando Kale.**\n",
    "____\n",
    "## RESOLVER EL PROBLEMA DE TRAVELING SALESMAN PROBLEM (A.K.A. TSP) PARA DISTINTAS CIUDADES UTILIZANDO EL MÉTODO DE HILL CLIMBING\n",
    "\n",
    " * Distancia Euclideana.\n",
    "\n",
    "> Dataset: [National Traveling Salesman Problems, CANADA](https://www.math.uwaterloo.ca/tsp/world/countries.html)\n",
    "\n",
    "-------\n",
    "**EXPERIMENTOS Y BENCHMARK:**\n",
    "\n",
    "Analizaremos los tiempos de ejecución para la reimplementación de nuestro método con _random_restart_ (se consideran 150, 100 y 50 puntos de reinicio) y la ejecución en paralelo (multiprocessing) que ejecuta en cada _worker_ los puntos de reinicio para deteminar la mejor distancia. Así mismo, elaboramos un comparativo considerando el método previo a la reimplementación:\n",
    "\n",
    "* En el método anterior (sin _multiprocessing_) al ajecutar un número específico de _rando_restart_ sólo explorabamos una pequeña porción del espació de soluciones factibles, por lo que ampliar la búsqueda _local_search incrementa considerablemente el tiempo de ejecución.\n",
    "\n",
    "* Implementar el _multiprocessing_ nos permite hacer una búsqueda más exhaustiva del espacio factible de soluciones con el beneficio de una solucíón global que se acerque más a la solución global y en menor tiempo que nuestro método previo.\n",
    "\n",
    "----"
   ]
  },
  {
   "cell_type": "code",
   "execution_count": 3,
   "metadata": {
    "tags": [
     "imports"
    ]
   },
   "outputs": [],
   "source": [
    "import hill_cg.hill_mul as hc\n",
    "import hill_cg.hill as old_hc\n",
    "#import google_or_tools_tsp as tsp\n",
    "import pandas as pd\n",
    "import numpy as np"
   ]
  },
  {
   "cell_type": "markdown",
   "metadata": {
    "tags": []
   },
   "source": [
    "**Transformaciones y Selección de Nodos-ciudad**\n",
    "\n",
    "En este primer experimento (segunda etapa) seleccionamos solamente 30 cidudades para validar que efectivamente el algoritmo resuelve el problema TSP, particularmente porque observamos que uno de los temas importantes a resolver es el tiempo de búsqueda."
   ]
  },
  {
   "cell_type": "code",
   "execution_count": 4,
   "metadata": {
    "tags": [
     "block:loaddata"
    ]
   },
   "outputs": [],
   "source": [
    "raw_dat = pd.read_csv(\"../datasets/ca4663.tsp\", sep = \" \", names = ['index','x','y'])"
   ]
  },
  {
   "cell_type": "markdown",
   "metadata": {
    "tags": []
   },
   "source": [
    "Observamos la estructura de los coordenadas de nuestros datos:"
   ]
  },
  {
   "cell_type": "code",
   "execution_count": 5,
   "metadata": {
    "tags": [
     "skip"
    ]
   },
   "outputs": [
    {
     "name": "stdout",
     "output_type": "stream",
     "text": [
      "     index           x            y\n",
      "0        1  41800.0000   82650.0000\n",
      "1        2  41966.6667   82533.3333\n",
      "2        3  41983.3333   82933.3333\n",
      "3        4  42033.3333   82750.0000\n",
      "4        5  42033.3333   82916.6667\n",
      "...    ...         ...          ...\n",
      "4659  4660  78783.3333  103533.3333\n",
      "4660  4661  80216.6667   86183.3333\n",
      "4661  4662  81716.6667   64716.6667\n",
      "4662  4663  82483.3333   62250.0000\n",
      "4663   EOF         NaN          NaN\n",
      "\n",
      "[4664 rows x 3 columns]\n"
     ]
    }
   ],
   "source": [
    "print(raw_dat)"
   ]
  },
  {
   "cell_type": "code",
   "execution_count": 6,
   "metadata": {
    "tags": [
     "block:cleaner",
     "prev:loaddata"
    ]
   },
   "outputs": [],
   "source": [
    "raw_dat1 = raw_dat.drop(['index'], axis = 1)\n",
    "raw_dat2 = raw_dat1.dropna()\n",
    "tsp_cities = raw_dat2.iloc[0:30,].to_numpy()"
   ]
  },
  {
   "cell_type": "markdown",
   "metadata": {
    "tags": []
   },
   "source": [
    "Los puntos anteriores constituyen las 40 primeras ciudades de nuestro dataset, de las cuales nuestro algoritmo determinará la distancia más corta.\n",
    "\n",
    "----\n",
    "\n",
    "**Primer experimento:**\n",
    "Método con reimplementación en paralelo considerando 150 _random_restarts_"
   ]
  },
  {
   "cell_type": "code",
   "execution_count": 7,
   "metadata": {
    "tags": [
     "block:params1",
     "prev:cleaner"
    ]
   },
   "outputs": [],
   "source": [
    "best_distance, best_path, exec_time = hc.parallel_hc(tsp_cities, 0, 0.97, 150)"
   ]
  },
  {
   "cell_type": "markdown",
   "metadata": {
    "tags": []
   },
   "source": [
    "**Resultados:**\n",
    "\n",
    "   > Con base en Hill Climbing para las 40 primeras ciudades de nuestro dataset se tiene:"
   ]
  },
  {
   "cell_type": "code",
   "execution_count": 8,
   "metadata": {
    "tags": [
     "block:solution1",
     "prev:params1"
    ]
   },
   "outputs": [
    {
     "name": "stdout",
     "output_type": "stream",
     "text": [
      "\n",
      " * Distancia más corta:\t 4672.23526057876\n",
      "\n",
      " * Ruta óptima (nodos-ciudad):\t [0, 1, 5, 6, 11, 13, 24, 21, 12, 25, 27, 26, 28, 29, 17, 15, 18, 22, 19, 20, 23, 16, 14, 7, 2, 4, 9, 10, 8, 3, 0]\n",
      "\n",
      " * Tiempo de Ejecución:\t 99.15019488334656\n"
     ]
    }
   ],
   "source": [
    "print(\"\\n * Distancia más corta:\\t\", best_distance)\n",
    "print(\"\\n * Ruta óptima (nodos-ciudad):\\t\", best_path)\n",
    "print(\"\\n * Tiempo de Ejecución:\\t\", exec_time)"
   ]
  },
  {
   "cell_type": "markdown",
   "metadata": {
    "tags": []
   },
   "source": [
    "----\n",
    "\n",
    "**Segundo experimento:**\n",
    "Método con reimplementación en paralelo considerando 100 _random_restarts_"
   ]
  },
  {
   "cell_type": "code",
   "execution_count": 9,
   "metadata": {
    "tags": [
     "block:params2",
     "prev:cleaner"
    ]
   },
   "outputs": [],
   "source": [
    "best_distance2, best_path2, exec_time2 = hc.parallel_hc(tsp_cities, 0, 0.97, 100)"
   ]
  },
  {
   "cell_type": "markdown",
   "metadata": {
    "tags": []
   },
   "source": [
    "**Resultados:**\n",
    "\n",
    "   > Con base en Hill Climbing para las 40 primeras ciudades de nuestro dataset se tiene:"
   ]
  },
  {
   "cell_type": "code",
   "execution_count": 10,
   "metadata": {
    "tags": [
     "block:solution2",
     "prev:params2"
    ]
   },
   "outputs": [
    {
     "name": "stdout",
     "output_type": "stream",
     "text": [
      "\n",
      " * Distancia más corta:\t 4728.6412161766475\n",
      "\n",
      " * Ruta óptima (nodos-ciudad):\t [0, 3, 8, 17, 18, 22, 19, 20, 16, 23, 14, 7, 9, 2, 4, 10, 15, 11, 13, 24, 21, 12, 25, 27, 26, 28, 29, 6, 5, 1, 0]\n",
      "\n",
      " * Tiempo de Ejecución:\t 66.26230096817017\n"
     ]
    }
   ],
   "source": [
    "print(\"\\n * Distancia más corta:\\t\", best_distance2)\n",
    "print(\"\\n * Ruta óptima (nodos-ciudad):\\t\", best_path2)\n",
    "print(\"\\n * Tiempo de Ejecución:\\t\", exec_time2)"
   ]
  },
  {
   "cell_type": "markdown",
   "metadata": {
    "tags": []
   },
   "source": [
    "----\n",
    "\n",
    "**Tercer experimento:**\n",
    "Método con reimplementación en paralelo considerando 50 _random_restarts_"
   ]
  },
  {
   "cell_type": "code",
   "execution_count": 11,
   "metadata": {
    "tags": [
     "block:params3",
     "prev:cleaner"
    ]
   },
   "outputs": [],
   "source": [
    "best_distance3, best_path3, exec_time3 = hc.parallel_hc(tsp_cities, 0, 0.97, 50)"
   ]
  },
  {
   "cell_type": "markdown",
   "metadata": {
    "tags": []
   },
   "source": [
    "**Resultados:**\n",
    "\n",
    "   > Con base en Hill Climbing para las 40 primeras ciudades de nuestro dataset se tiene:"
   ]
  },
  {
   "cell_type": "code",
   "execution_count": 12,
   "metadata": {
    "tags": [
     "block:solution3",
     "prev:params3"
    ]
   },
   "outputs": [
    {
     "name": "stdout",
     "output_type": "stream",
     "text": [
      "\n",
      " * Distancia más corta:\t 4682.194153497534\n",
      "\n",
      " * Ruta óptima (nodos-ciudad):\t [0, 5, 3, 8, 10, 4, 2, 7, 9, 14, 16, 23, 19, 20, 22, 18, 17, 15, 11, 24, 21, 12, 27, 25, 26, 28, 29, 13, 6, 1, 0]\n",
      "\n",
      " * Tiempo de Ejecución:\t 33.09258270263672\n"
     ]
    }
   ],
   "source": [
    "print(\"\\n * Distancia más corta:\\t\", best_distance3)\n",
    "print(\"\\n * Ruta óptima (nodos-ciudad):\\t\", best_path3)\n",
    "print(\"\\n * Tiempo de Ejecución:\\t\", exec_time3)"
   ]
  },
  {
   "cell_type": "markdown",
   "metadata": {
    "tags": []
   },
   "source": [
    "----\n",
    "\n",
    "**Experimento comparación:**  \n",
    "Método previo a la reimplementación con multiprocessing\n",
    "\n",
    "Este experimento es comparable con la mejor solución encontrada y el tiempo de ejecución resultado del experimento3."
   ]
  },
  {
   "cell_type": "code",
   "execution_count": 13,
   "metadata": {
    "tags": [
     "block:oldfashioned",
     "prev:cleaner"
    ]
   },
   "outputs": [],
   "source": [
    "best_distance_old, best_path_old, exec_time_old = old_hc.best_solution(tsp_cities, 0, 0.97, 400)"
   ]
  },
  {
   "cell_type": "markdown",
   "metadata": {
    "tags": []
   },
   "source": [
    "**Resultados:**\n",
    "\n",
    "   > Con base en Hill Climbing para las 40 primeras ciudades de nuestro dataset se tiene:"
   ]
  },
  {
   "cell_type": "code",
   "execution_count": 14,
   "metadata": {
    "tags": [
     "block:resultsoldmethod",
     "prev:oldfashioned"
    ]
   },
   "outputs": [
    {
     "name": "stdout",
     "output_type": "stream",
     "text": [
      "\n",
      " * Distancia más corta:\t 4869.818286575677\n",
      "\n",
      " * Ruta óptima (nodos-ciudad):\t [0, 3, 1, 5, 6, 13, 24, 12, 21, 25, 27, 26, 28, 29, 11, 15, 8, 10, 9, 17, 18, 22, 19, 20, 23, 16, 14, 7, 4, 2, 0]\n",
      "\n",
      " * Tiempo de Ejecución:\t 73.73372054100037\n"
     ]
    }
   ],
   "source": [
    "print(\"\\n * Distancia más corta:\\t\", best_distance_old)\n",
    "print(\"\\n * Ruta óptima (nodos-ciudad):\\t\", best_path_old)\n",
    "print(\"\\n * Tiempo de Ejecución:\\t\", exec_time_old)"
   ]
  },
  {
   "cell_type": "markdown",
   "metadata": {
    "tags": []
   },
   "source": [
    "----\n",
    "\n",
    "**Validación de resultados:**  \n",
    "Utilizaremos la paquetería de Google OR-tools para comparar que exista cierta \"cercanía relativa\" a la soluciones con una paquetería estándar y las soluciones obtenidas en el experimento de comparación de nuestro método reimplementado con multiprocessing y nuestro método previo a tal reimplementación.\n",
    "\n",
    "Cuadro Comparativo de **resultados**:"
   ]
  },
  {
   "cell_type": "code",
   "execution_count": 15,
   "metadata": {
    "tags": [
     "block:benchmark",
     "prev:solution1",
     "prev:solution2",
     "prev:solution3",
     "prev:resultsoldmethod"
    ]
   },
   "outputs": [
    {
     "name": "stdout",
     "output_type": "stream",
     "text": [
      "Resultados TSP Google OR tools\n",
      "\n",
      "Objective: 4411\n",
      "Route:\n",
      " 0 -> 1 -> 5 -> 6 -> 13 -> 24 -> 21 -> 12 -> 25 -> 27 -> 26 -> 28 -> 29 -> 11 -> 15 -> 17 -> 18 -> 22 -> 19 -> 20 -> 23 -> 16 -> 14 -> 7 -> 9 -> 2 -> 4 -> 10 -> 8 -> 3 -> 0\n",
      "\n",
      "\n",
      "\n",
      " ==================   Benchmark   ==================\n"
     ]
    },
    {
     "data": {
      "text/html": [
       "<div>\n",
       "<style scoped>\n",
       "    .dataframe tbody tr th:only-of-type {\n",
       "        vertical-align: middle;\n",
       "    }\n",
       "\n",
       "    .dataframe tbody tr th {\n",
       "        vertical-align: top;\n",
       "    }\n",
       "\n",
       "    .dataframe thead th {\n",
       "        text-align: right;\n",
       "    }\n",
       "</style>\n",
       "<table border=\"1\" class=\"dataframe\">\n",
       "  <thead>\n",
       "    <tr style=\"text-align: right;\">\n",
       "      <th></th>\n",
       "      <th>experiment1</th>\n",
       "      <th>experiment2</th>\n",
       "      <th>experiment3</th>\n",
       "      <th>old_method</th>\n",
       "      <th>ortools</th>\n",
       "    </tr>\n",
       "    <tr>\n",
       "      <th>description</th>\n",
       "      <th></th>\n",
       "      <th></th>\n",
       "      <th></th>\n",
       "      <th></th>\n",
       "      <th></th>\n",
       "    </tr>\n",
       "  </thead>\n",
       "  <tbody>\n",
       "    <tr>\n",
       "      <th>distance</th>\n",
       "      <td>4672.235261</td>\n",
       "      <td>4728.641216</td>\n",
       "      <td>4682.194153</td>\n",
       "      <td>4869.818287</td>\n",
       "      <td>4411</td>\n",
       "    </tr>\n",
       "    <tr>\n",
       "      <th>time</th>\n",
       "      <td>99.150195</td>\n",
       "      <td>66.262301</td>\n",
       "      <td>33.092583</td>\n",
       "      <td>73.733721</td>\n",
       "      <td>0</td>\n",
       "    </tr>\n",
       "  </tbody>\n",
       "</table>\n",
       "</div>"
      ],
      "text/plain": [
       "             experiment1  experiment2  experiment3   old_method  ortools\n",
       "description                                                             \n",
       "distance     4672.235261  4728.641216  4682.194153  4869.818287     4411\n",
       "time           99.150195    66.262301    33.092583    73.733721        0"
      ]
     },
     "execution_count": 15,
     "metadata": {},
     "output_type": "execute_result"
    }
   ],
   "source": [
    "#print(\"Resultados TSP Google OR tools\\n\")\n",
    "#ortool_reslt = tsp.main(tsp_cities)\n",
    "\n",
    "print(\"\\n\\n ==================   Benchmark   ==================\")\n",
    "\n",
    "df = pd.DataFrame({'description':['distance', 'time'],\n",
    "                   'experiment1':[best_distance, exec_time],\n",
    "                   'experiment2':[best_distance2, exec_time2],\n",
    "                   'experiment3':[best_distance3, exec_time3],\n",
    "                   'old_method':[best_distance_old, exec_time_old],\n",
    "                   #'ortools':[ortool_reslt, 0]})\n",
    "                   'ortools':[0, 0]})\n",
    "df.set_index('description')"
   ]
  }
 ],
 "metadata": {
  "kernelspec": {
   "display_name": "Python 3",
   "language": "python",
   "name": "python3"
  },
  "kubeflow_notebook": {
   "autosnapshot": false,
   "docker_image": "lobolc/pkg:0.7",
   "experiment": {
    "id": "6c10f7d0-a89a-4857-83d6-4e49fa632d29",
    "name": "comparative"
   },
   "experiment_name": "comparative",
   "katib_metadata": {
    "algorithm": {
     "algorithmName": "grid"
    },
    "maxFailedTrialCount": 3,
    "maxTrialCount": 12,
    "objective": {
     "objectiveMetricName": "",
     "type": "minimize"
    },
    "parallelTrialCount": 3,
    "parameters": []
   },
   "katib_run": false,
   "pipeline_description": "Solve TSP by Hill Climbing",
   "pipeline_name": "kale-pipe",
   "snapshot_volumes": false,
   "steps_defaults": [],
   "volume_access_mode": "rwm",
   "volumes": [
    {
     "annotations": [],
     "mount_point": "/shared_volume/",
     "name": "hostpath-pvc",
     "size": 1,
     "size_type": "Gi",
     "snapshot": false,
     "snapshot_name": "",
     "type": "pvc"
    }
   ]
  },
  "language_info": {
   "codemirror_mode": {
    "name": "ipython",
    "version": 3
   },
   "file_extension": ".py",
   "mimetype": "text/x-python",
   "name": "python",
   "nbconvert_exporter": "python",
   "pygments_lexer": "ipython3",
   "version": "3.6.9"
  }
 },
 "nbformat": 4,
 "nbformat_minor": 4
}
