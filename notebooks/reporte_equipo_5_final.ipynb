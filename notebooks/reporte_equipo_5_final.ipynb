{
 "cells": [
  {
   "cell_type": "markdown",
   "metadata": {},
   "source": [
    "# Maestría en Ciencia de Datos, ITAM\n",
    "\n",
    "**Curso de Optimización 2 2021-1,\"Optimización Avanzada\"\n",
    "Prof. Erick Palacios Moreno**\n",
    "\n",
    "* Equipo 5:  \n",
    ">MIGUEL LOPEZ  \n",
    "CARLOS LOPEZ  \n",
    "JOSÉ ZARATE \n",
    "\n",
    "\n",
    "## RESOLVER EL PROBLEMA DE TRAVELING SALESMAN PROBLEM (A.K.A. TSP) PARA DISTINTAS CIUDADES UTILIZANDO EL MÉTODO DE HILL CLIMBING\n",
    "\n",
    "* Distancia Euclideana.\n",
    "> Dataset: National Traveling Salesman Problems, CANADA\n",
    "\n",
    "Para ello, realizaremos una ejecución para un subgrupo del dataset con las primeras 17 ciudades con el objetivo de realizar una _test_ estandar en tiempo razonable.\n",
    "\n",
    "______\n",
    "\n",
    "**MODIFICACIONES DERIVADAS DE LA ETAPA DE EXPERIMENTACIÓN:**\n",
    "\n",
    "* Se integró el random_restart con un _for loop_ (default = 100), el cual repite el proceso de obtener la mejor ruta a partir de una de una _initial random solution_ con el objetivo de ampliar la búsqueda ya que detectamos como problemática que _Hill CLimbing_ se quedaba estacionado en un mínimo local. Esto se logró utilizando como paquetería de comparación OR Tools de Google (ver README para referencias)."
   ]
  }
 ],
 "metadata": {
  "kernelspec": {
   "display_name": "optimizacion",
   "language": "python",
   "name": "optimizacion"
  },
  "language_info": {
   "codemirror_mode": {
    "name": "ipython",
    "version": 3
   },
   "file_extension": ".py",
   "mimetype": "text/x-python",
   "name": "python",
   "nbconvert_exporter": "python",
   "pygments_lexer": "ipython3",
   "version": "3.8.0"
  }
 },
 "nbformat": 4,
 "nbformat_minor": 2
}
