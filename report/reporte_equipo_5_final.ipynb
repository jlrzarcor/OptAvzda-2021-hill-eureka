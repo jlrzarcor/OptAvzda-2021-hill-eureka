{
 "cells": [
  {
   "cell_type": "markdown",
   "metadata": {},
   "source": [
    "# Maestría en Ciencia de Datos, ITAM\n",
    "\n",
    "**Curso de Optimización 2 2021-1,\"Optimización Avanzada\"\n",
    "Prof. Erick Palacios Moreno**\n",
    "\n",
    "* Equipo 5:  \n",
    ">MIGUEL LOPEZ  \n",
    "CARLOS LOPEZ  \n",
    "JOSÉ ZARATE \n",
    "\n",
    "\n",
    "## RESOLVER EL PROBLEMA DE TRAVELING SALESMAN PROBLEM (A.K.A. TSP) PARA DISTINTAS CIUDADES UTILIZANDO EL MÉTODO DE HILL CLIMBING (RANDOM-RESTART)\n",
    "\n",
    "* Distancia Euclideana.\n",
    "> Dataset: National Traveling Salesman Problems, CANADA\n",
    "\n",
    "Para ello, realizaremos una ejecución para un subgrupo del dataset con las primeras 17 ciudades con el objetivo de realizar una _test_ estandar en tiempo razonable.\n",
    "\n",
    "-------\n",
    "\n",
    "### Hill Climbing \n",
    "\n",
    "El algoritmo de hill-climbing realiza seguimiento de un estado actual y en cada iteración se mueve al estado vecino con el valor más alto o menor, según sea el caso, es decir, se dirige en la dirección que proporciona el ascenso o descenso de mayor inclinación. Termina cuando alcanza un máximo o mínimo local. Hill climbing no mira hacia el futuro más allá de los vecinos inmediatos del estado actual. Esto se asemeja a tratar de encontrar la cima del Monte Everest en una espesa niebla mientras sufre de amnesia. Toma en cuenta que una forma de utilizar hill-climbing  consiste en utilizar el negativo de una función de coste heurística como función objetivo; que ascenderá localmente al estado con menor distancia heurística a la meta.\n",
    "\n",
    "Los problemas que tiene Hill Climbing son:\n",
    "\n",
    "MÁXIMA LOCAL: Un máximo local es un pico que es más alto que los estados vecinos pero menor que el máximo global. Cuando este algoritmo alcanzan las proximidades de un máximo local no podrá escapar de este, amenos que estemos tratando con un problema convexo.\n",
    "\n",
    "CORDILLERAS: Las cordilleras son un reto para los algoritmos de hill climbing que optimizan en espacios continuos. Debido a que los algoritmos de hill climbing ajustan solo un elemento en el vector a la vez, a cada paso se va a mover en una dirección alineada con el eje. Si la función objetivo determina una cordillera estrecha que asciende en una dirección no alineada con el eje, entonces el algoritmo de hill climbing solo puede ascender la cordillera en zigzag. Si los lados de la cordillera son muy pronunciados, entonces el algoritmo puede verse forzado a realizar pasos muy pequeños mientras zigzaguea hacia una mejor posición.\n",
    "\n",
    "MESETA: Se encuentra una meseta cuando el espacio de búsqueda es plano o lo suficientemente plano como para que el valor devuelto por la función objetivo sea indistinguible del valor devuelto para las regiones cercanas debido a la precisión utilizada por la máquina para representar la misma.\n",
    "\n",
    "-------\n",
    "**MODIFICACIONES DERIVADAS DE LA ETAPA DE EXPERIMENTACIÓN:**\n",
    "\n",
    "Se desarrollaron diversos experimentos para analizar la eficiencia del algoritmo, la tolerancia y el punto inicial. Observamos que una de las mayores dificultades a resolver era que nuestro algoritmo era ineficiente para un númer mayor a 9 ciudades para cualquier punto inicial y tolerancia asignada (norma-distncia entre dos rutas para elegir la de mayor eficiencia). Se realizó una recodificación del código a partir de consultar otros algoritmos desarrollados por la comunidad (ver README de nuestro repo) bajo los cuales logramos tiempos sumamente eficientes incluso con más de 100 ciudades.\n",
    "\n",
    "En una segunda etapa buscaremos optimizar el código en la siguiente práctica por medio de un análisis de perfilamiento y la consecuente reprogramación; finalmente se implementará el cómputo en paralelo. \n",
    "\n",
    "______________"
   ]
  },
  {
   "cell_type": "markdown",
   "metadata": {},
   "source": [
    "A continuación se muestra la descripción de la instancia utilizada:"
   ]
  },
  {
   "cell_type": "code",
   "execution_count": 4,
   "metadata": {},
   "outputs": [
    {
     "name": "stdout",
     "output_type": "stream",
     "text": [
      "Arquitectura:                        x86_64\n",
      "modo(s) de operación de las CPUs:    32-bit, 64-bit\n",
      "Orden de los bytes:                  Little Endian\n",
      "Address sizes:                       39 bits physical, 48 bits virtual\n",
      "CPU(s):                              12\n",
      "Lista de la(s) CPU(s) en línea:      0-11\n",
      "Hilo(s) de procesamiento por núcleo: 2\n",
      "Núcleo(s) por «socket»:              6\n",
      "«Socket(s)»                          1\n",
      "Modo(s) NUMA:                        1\n",
      "ID de fabricante:                    GenuineIntel\n",
      "Familia de CPU:                      6\n",
      "Modelo:                              158\n",
      "Nombre del modelo:                   Intel(R) Core(TM) i7-9750H CPU @ 2.60GHz\n",
      "Revisión:                            13\n",
      "CPU MHz:                             2926.443\n",
      "CPU MHz máx.:                        4500.0000\n",
      "CPU MHz mín.:                        800.0000\n",
      "BogoMIPS:                            5199.98\n",
      "Virtualización:                      VT-x\n",
      "Caché L1d:                           192 KiB\n",
      "Caché L1i:                           192 KiB\n",
      "Caché L2:                            1.5 MiB\n",
      "Caché L3:                            12 MiB\n",
      "CPU(s) del nodo NUMA 0:              0-11\n",
      "Vulnerability Itlb multihit:         KVM: Mitigation: VMX disabled\n",
      "Vulnerability L1tf:                  Not affected\n",
      "Vulnerability Mds:                   Not affected\n",
      "Vulnerability Meltdown:              Not affected\n",
      "Vulnerability Spec store bypass:     Mitigation; Speculative Store Bypass disabled via prctl and seccomp\n",
      "Vulnerability Spectre v1:            Mitigation; usercopy/swapgs barriers and __user pointer sanitization\n",
      "Vulnerability Spectre v2:            Mitigation; Enhanced IBRS, IBPB conditional, RSB filling\n",
      "Vulnerability Srbds:                 Mitigation; TSX disabled\n",
      "Vulnerability Tsx async abort:       Not affected\n",
      "Indicadores:                         fpu vme de pse tsc msr pae mce cx8 apic sep mtrr pge mca cmov pat pse36 clflush dts acpi mmx fxsr sse sse2 ss ht tm pbe syscall nx pdpe1gb rdtscp lm constant_tsc art arch_perfmon pebs bts rep_good nopl xtopology nonstop_tsc cpuid aperfmperf pni pclmulqdq dtes64 monitor ds_cpl vmx est tm2 ssse3 sdbg fma cx16 xtpr pdcm pcid sse4_1 sse4_2 x2apic movbe popcnt tsc_deadline_timer aes xsave avx f16c rdrand lahf_lm abm 3dnowprefetch cpuid_fault epb invpcid_single ssbd ibrs ibpb stibp ibrs_enhanced tpr_shadow vnmi flexpriority ept vpid ept_ad fsgsbase tsc_adjust bmi1 avx2 smep bmi2 erms invpcid mpx rdseed adx smap clflushopt intel_pt xsaveopt xsavec xgetbv1 xsaves dtherm ida arat pln pts hwp hwp_notify hwp_act_window hwp_epp md_clear flush_l1d arch_capabilities\n"
     ]
    }
   ],
   "source": [
    "%%bash\n",
    "lscpu"
   ]
  },
  {
   "cell_type": "code",
   "execution_count": 3,
   "metadata": {},
   "outputs": [
    {
     "name": "stdout",
     "output_type": "stream",
     "text": [
      "  *-memory\n",
      "       descripción: Memoria de sistema\n",
      "       id físico: 0\n",
      "       tamaño: 8GiB\n",
      "  *-memory NO RECLAMADO\n",
      "       descripción: RAM memory\n",
      "       producto: Cannon Lake PCH Shared SRAM\n",
      "       fabricante: Intel Corporation\n",
      "       id físico: 14.2\n",
      "       información del bus: pci@0000:00:14.2\n",
      "       versión: 10\n",
      "       anchura: 64 bits\n",
      "       reloj: 33MHz (30.3ns)\n",
      "       capacidades: cap_list\n",
      "       configuración: latency=0\n",
      "       recursos: memoria:a441a000-a441bfff memoria:a4422000-a4422fff\n"
     ]
    },
    {
     "name": "stderr",
     "output_type": "stream",
     "text": [
      "AVISO: debería ejecutar este programa como superusuario.\n",
      "AVISO: la salida puede ser incompleta o imprecisa, debería ejecutar este programa como superusuario.\n"
     ]
    }
   ],
   "source": [
    "%%bash\n",
    "lshw -C memory"
   ]
  },
  {
   "cell_type": "code",
   "execution_count": 1,
   "metadata": {},
   "outputs": [],
   "source": [
    "import os\n",
    "import time\n",
    "import numpy as np\n",
    "import pandas as pd\n",
    "os.chdir(\"../\")\n",
    "from src.hill_cg.hill import best_solution\n",
    "from src.hill_cg.hill_mul import parallel_hc"
   ]
  },
  {
   "cell_type": "markdown",
   "metadata": {
    "tags": []
   },
   "source": [
    "Enseguida ejecutamos un ejemplo donde se meustra la comparación entre nuestro código sin paralelizar contra nuestro código paralelizando.\n",
    "\n",
    "Nuestro primer ejemplo lo corremos con 30 ciudades extraidas de nuestro dataset ejemplo, el cual contiene 4,663 ciudades canadienses.En primer lugar correremos la función `best_solution` el cual no utiliza `Pool` para déspues correr nuestro código con computo en paralelo. \n",
    "\n",
    "Ambas funciones regresan los mismos tres resultados: distancia más corta encontrada, la permutación correspondiente a dicha distancia y el tiempo de ejecución."
   ]
  },
  {
   "cell_type": "code",
   "execution_count": 3,
   "metadata": {},
   "outputs": [],
   "source": [
    "# Cargamos los datos \n",
    "\n",
    "dat = pd.read_csv(\"datasets/ca4663.tsp\", names = [\"index\",\"uno\",\"dos\"], sep = \" \")\n",
    "dat.drop(['index'],axis = 1, inplace = True)\n",
    "dat.dropna(inplace = True)\n",
    "dat1 = dat.to_numpy()\n",
    "tsp_cities = dat1[0:30,:]"
   ]
  },
  {
   "cell_type": "markdown",
   "metadata": {
    "tags": []
   },
   "source": [
    "## Ejemplo 12 ciudades "
   ]
  },
  {
   "cell_type": "markdown",
   "metadata": {},
   "source": [
    "Los primeros tres parámetros que se ingresan en cada función son idénticos equivalentes, mientras que el cuarto parámetro, que para `parallel_hc` es 100 y para `best_solution` es 800,  estas son  equivalentes. Ya que está instancia tiene, como se muestra en la descripción, ocho workers posibles, en cambio `best_solution` solo corre un worker a la vez.  "
   ]
  },
  {
   "cell_type": "code",
   "execution_count": 6,
   "metadata": {},
   "outputs": [
    {
     "name": "stderr",
     "output_type": "stream",
     "text": [
      "Process ForkPoolWorker-12:\n",
      "Process ForkPoolWorker-11:\n",
      "Process ForkPoolWorker-10:\n",
      "Process ForkPoolWorker-9:\n",
      "Process ForkPoolWorker-7:\n",
      "Process ForkPoolWorker-4:\n",
      "Process ForkPoolWorker-2:\n",
      "Process ForkPoolWorker-1:\n",
      "Process ForkPoolWorker-3:\n",
      "Process ForkPoolWorker-8:\n",
      "Traceback (most recent call last):\n",
      "Traceback (most recent call last):\n"
     ]
    }
   ],
   "source": [
    "%%time\n",
    "parallel_hc(tsp_cities, 0, 1e-1, 20)"
   ]
  },
  {
   "cell_type": "code",
   "execution_count": 4,
   "metadata": {},
   "outputs": [
    {
     "ename": "KeyboardInterrupt",
     "evalue": "",
     "output_type": "error",
     "traceback": [
      "\u001b[0;31m---------------------------------------------------------------------------\u001b[0m",
      "\u001b[0;31mKeyboardInterrupt\u001b[0m                         Traceback (most recent call last)",
      "\u001b[0;32m<timed eval>\u001b[0m in \u001b[0;36m<module>\u001b[0;34m\u001b[0m\n",
      "\u001b[0;32m~/Documentos/Escuela/Primavera 2021/Optimizacion avanzada/practica_final/final_hc/src/hill_cg/hill.py\u001b[0m in \u001b[0;36mbest_solution\u001b[0;34m(coordinate, initial_point, tolerance, n_restarts)\u001b[0m\n\u001b[1;32m    116\u001b[0m     \u001b[0;32mfor\u001b[0m \u001b[0m_\u001b[0m \u001b[0;32min\u001b[0m \u001b[0mrange\u001b[0m\u001b[0;34m(\u001b[0m\u001b[0mn_restarts\u001b[0m\u001b[0;34m)\u001b[0m\u001b[0;34m:\u001b[0m\u001b[0;34m\u001b[0m\u001b[0;34m\u001b[0m\u001b[0m\n\u001b[1;32m    117\u001b[0m         \u001b[0;32mwhile\u001b[0m \u001b[0mbest_neighbor_path\u001b[0m \u001b[0;34m<\u001b[0m \u001b[0mcurrent_path\u001b[0m\u001b[0;34m:\u001b[0m\u001b[0;34m\u001b[0m\u001b[0;34m\u001b[0m\u001b[0m\n\u001b[0;32m--> 118\u001b[0;31m             \u001b[0;32mwhile\u001b[0m \u001b[0mabs\u001b[0m\u001b[0;34m(\u001b[0m\u001b[0mbest_neighbor_path\u001b[0m \u001b[0;34m-\u001b[0m \u001b[0mcurrent_path\u001b[0m\u001b[0;34m)\u001b[0m \u001b[0;34m>\u001b[0m \u001b[0mtolerance\u001b[0m\u001b[0;34m:\u001b[0m\u001b[0;34m\u001b[0m\u001b[0;34m\u001b[0m\u001b[0m\n\u001b[0m\u001b[1;32m    119\u001b[0m                 \u001b[0mcurrent_solution\u001b[0m \u001b[0;34m=\u001b[0m \u001b[0mbest_neighbor\u001b[0m\u001b[0;34m\u001b[0m\u001b[0;34m\u001b[0m\u001b[0m\n\u001b[1;32m    120\u001b[0m                 \u001b[0mcurrent_path\u001b[0m \u001b[0;34m=\u001b[0m \u001b[0mbest_neighbor_path\u001b[0m\u001b[0;34m\u001b[0m\u001b[0;34m\u001b[0m\u001b[0m\n",
      "\u001b[0;31mKeyboardInterrupt\u001b[0m: "
     ]
    }
   ],
   "source": [
    "%%time\n",
    "best_solution(tsp_cities, 0, 1e-1, 160)"
   ]
  },
  {
   "cell_type": "markdown",
   "metadata": {
    "tags": []
   },
   "source": [
    "## Ejemplo 20 ciudades"
   ]
  },
  {
   "cell_type": "code",
   "execution_count": 28,
   "metadata": {},
   "outputs": [],
   "source": [
    "tsp_cities_dos = dat1[0:20,:]"
   ]
  },
  {
   "cell_type": "code",
   "execution_count": 30,
   "metadata": {},
   "outputs": [
    {
     "name": "stdout",
     "output_type": "stream",
     "text": [
      "CPU times: user 4.67 ms, sys: 36 ms, total: 40.7 ms\n",
      "Wall time: 9.82 s\n"
     ]
    },
    {
     "data": {
      "text/plain": [
       "(3329.1623916962017,\n",
       " [0, 1, 5, 6, 12, 13, 11, 15, 17, 18, 19, 16, 14, 7, 2, 4, 9, 10, 8, 3, 0],\n",
       " 8.481815576553345)"
      ]
     },
     "execution_count": 30,
     "metadata": {},
     "output_type": "execute_result"
    }
   ],
   "source": [
    "%%time\n",
    "parallel_hc(tsp_cities_dos, 0, 1e-1, 100)"
   ]
  },
  {
   "cell_type": "code",
   "execution_count": 32,
   "metadata": {},
   "outputs": [
    {
     "name": "stdout",
     "output_type": "stream",
     "text": [
      "CPU times: user 20.8 s, sys: 3.99 ms, total: 20.8 s\n",
      "Wall time: 20.8 s\n"
     ]
    },
    {
     "data": {
      "text/plain": [
       "(3329.162391696201,\n",
       " [0, 3, 8, 10, 9, 4, 2, 7, 14, 16, 19, 18, 17, 15, 11, 13, 12, 6, 5, 1, 0],\n",
       " 20.783585786819458)"
      ]
     },
     "execution_count": 32,
     "metadata": {},
     "output_type": "execute_result"
    }
   ],
   "source": [
    "%%time\n",
    "best_solution(tsp_cities_dos, 0, 1e-1, 800)"
   ]
  },
  {
   "cell_type": "code",
   "execution_count": 4,
   "metadata": {},
   "outputs": [
    {
     "data": {
      "text/plain": [
       "'/shared_volume/OptAvzda-2021-hill-eureka'"
      ]
     },
     "execution_count": 4,
     "metadata": {},
     "output_type": "execute_result"
    }
   ],
   "source": [
    "a = os.getcwd()\n",
    "a"
   ]
  },
  {
   "cell_type": "code",
   "execution_count": 6,
   "metadata": {},
   "outputs": [],
   "source": [
    "from hill_cg.hill import best_solution"
   ]
  },
  {
   "cell_type": "code",
   "execution_count": 5,
   "metadata": {},
   "outputs": [
    {
     "name": "stdout",
     "output_type": "stream",
     "text": [
      "/shared_volume/OptAvzda-2021-hill-eureka\n"
     ]
    }
   ],
   "source": [
    "import os \n",
    "print(os.getcwd())"
   ]
  }
 ],
 "metadata": {
  "kernelspec": {
   "display_name": "Python 3",
   "language": "python",
   "name": "python3"
  },
  "kubeflow_notebook": {
   "autosnapshot": false,
   "docker_image": "",
   "experiment": {
    "id": "",
    "name": ""
   },
   "experiment_name": "",
   "katib_metadata": {
    "algorithm": {
     "algorithmName": "grid"
    },
    "maxFailedTrialCount": 3,
    "maxTrialCount": 12,
    "objective": {
     "objectiveMetricName": "",
     "type": "minimize"
    },
    "parallelTrialCount": 3,
    "parameters": []
   },
   "katib_run": false,
   "pipeline_description": "",
   "pipeline_name": "",
   "snapshot_volumes": false,
   "steps_defaults": [],
   "volume_access_mode": "rwm",
   "volumes": []
  },
  "language_info": {
   "codemirror_mode": {
    "name": "ipython",
    "version": 3
   },
   "file_extension": ".py",
   "mimetype": "text/x-python",
   "name": "python",
   "nbconvert_exporter": "python",
   "pygments_lexer": "ipython3",
   "version": "3.8.0"
  }
 },
 "nbformat": 4,
 "nbformat_minor": 4
}
